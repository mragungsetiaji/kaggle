{
  "nbformat": 4,
  "nbformat_minor": 0,
  "metadata": {
    "colab": {
      "name": "credit-card-fraud-detection.ipynb",
      "version": "0.3.2",
      "provenance": [],
      "include_colab_link": true
    },
    "kernelspec": {
      "name": "python3",
      "display_name": "Python 3"
    }
  },
  "cells": [
    {
      "cell_type": "markdown",
      "metadata": {
        "id": "view-in-github",
        "colab_type": "text"
      },
      "source": [
        "<a href=\"https://colab.research.google.com/github/mragungsetiaji/kaggle/blob/master/fraud_detection/credit_card_fraud_detection.ipynb\" target=\"_parent\"><img src=\"https://colab.research.google.com/assets/colab-badge.svg\" alt=\"Open In Colab\"/></a>"
      ]
    },
    {
      "metadata": {
        "id": "nU5aTQOtTYJY",
        "colab_type": "code",
        "colab": {}
      },
      "cell_type": "code",
      "source": [
        "import pandas as pd"
      ],
      "execution_count": 0,
      "outputs": []
    },
    {
      "metadata": {
        "id": "zZ_LxQtOT-F4",
        "colab_type": "code",
        "colab": {}
      },
      "cell_type": "code",
      "source": [
        "df = pd.read_csv(\"https://storage.googleapis.com/mrdatabucket001/kaggle_credit_card_fraud_detection/creditcard.csv\")"
      ],
      "execution_count": 0,
      "outputs": []
    },
    {
      "metadata": {
        "id": "GKt-I_9dUJBS",
        "colab_type": "code",
        "colab": {
          "base_uri": "https://localhost:8080/",
          "height": 253
        },
        "outputId": "7e78116b-ef69-4b04-875f-6517924d9cbf"
      },
      "cell_type": "code",
      "source": [
        "df.head()"
      ],
      "execution_count": 4,
      "outputs": [
        {
          "output_type": "execute_result",
          "data": {
            "text/html": [
              "<div>\n",
              "<style scoped>\n",
              "    .dataframe tbody tr th:only-of-type {\n",
              "        vertical-align: middle;\n",
              "    }\n",
              "\n",
              "    .dataframe tbody tr th {\n",
              "        vertical-align: top;\n",
              "    }\n",
              "\n",
              "    .dataframe thead th {\n",
              "        text-align: right;\n",
              "    }\n",
              "</style>\n",
              "<table border=\"1\" class=\"dataframe\">\n",
              "  <thead>\n",
              "    <tr style=\"text-align: right;\">\n",
              "      <th></th>\n",
              "      <th>Time</th>\n",
              "      <th>V1</th>\n",
              "      <th>V2</th>\n",
              "      <th>V3</th>\n",
              "      <th>V4</th>\n",
              "      <th>V5</th>\n",
              "      <th>V6</th>\n",
              "      <th>V7</th>\n",
              "      <th>V8</th>\n",
              "      <th>V9</th>\n",
              "      <th>...</th>\n",
              "      <th>V21</th>\n",
              "      <th>V22</th>\n",
              "      <th>V23</th>\n",
              "      <th>V24</th>\n",
              "      <th>V25</th>\n",
              "      <th>V26</th>\n",
              "      <th>V27</th>\n",
              "      <th>V28</th>\n",
              "      <th>Amount</th>\n",
              "      <th>Class</th>\n",
              "    </tr>\n",
              "  </thead>\n",
              "  <tbody>\n",
              "    <tr>\n",
              "      <th>0</th>\n",
              "      <td>0.0</td>\n",
              "      <td>-1.359807</td>\n",
              "      <td>-0.072781</td>\n",
              "      <td>2.536347</td>\n",
              "      <td>1.378155</td>\n",
              "      <td>-0.338321</td>\n",
              "      <td>0.462388</td>\n",
              "      <td>0.239599</td>\n",
              "      <td>0.098698</td>\n",
              "      <td>0.363787</td>\n",
              "      <td>...</td>\n",
              "      <td>-0.018307</td>\n",
              "      <td>0.277838</td>\n",
              "      <td>-0.110474</td>\n",
              "      <td>0.066928</td>\n",
              "      <td>0.128539</td>\n",
              "      <td>-0.189115</td>\n",
              "      <td>0.133558</td>\n",
              "      <td>-0.021053</td>\n",
              "      <td>149.62</td>\n",
              "      <td>0</td>\n",
              "    </tr>\n",
              "    <tr>\n",
              "      <th>1</th>\n",
              "      <td>0.0</td>\n",
              "      <td>1.191857</td>\n",
              "      <td>0.266151</td>\n",
              "      <td>0.166480</td>\n",
              "      <td>0.448154</td>\n",
              "      <td>0.060018</td>\n",
              "      <td>-0.082361</td>\n",
              "      <td>-0.078803</td>\n",
              "      <td>0.085102</td>\n",
              "      <td>-0.255425</td>\n",
              "      <td>...</td>\n",
              "      <td>-0.225775</td>\n",
              "      <td>-0.638672</td>\n",
              "      <td>0.101288</td>\n",
              "      <td>-0.339846</td>\n",
              "      <td>0.167170</td>\n",
              "      <td>0.125895</td>\n",
              "      <td>-0.008983</td>\n",
              "      <td>0.014724</td>\n",
              "      <td>2.69</td>\n",
              "      <td>0</td>\n",
              "    </tr>\n",
              "    <tr>\n",
              "      <th>2</th>\n",
              "      <td>1.0</td>\n",
              "      <td>-1.358354</td>\n",
              "      <td>-1.340163</td>\n",
              "      <td>1.773209</td>\n",
              "      <td>0.379780</td>\n",
              "      <td>-0.503198</td>\n",
              "      <td>1.800499</td>\n",
              "      <td>0.791461</td>\n",
              "      <td>0.247676</td>\n",
              "      <td>-1.514654</td>\n",
              "      <td>...</td>\n",
              "      <td>0.247998</td>\n",
              "      <td>0.771679</td>\n",
              "      <td>0.909412</td>\n",
              "      <td>-0.689281</td>\n",
              "      <td>-0.327642</td>\n",
              "      <td>-0.139097</td>\n",
              "      <td>-0.055353</td>\n",
              "      <td>-0.059752</td>\n",
              "      <td>378.66</td>\n",
              "      <td>0</td>\n",
              "    </tr>\n",
              "    <tr>\n",
              "      <th>3</th>\n",
              "      <td>1.0</td>\n",
              "      <td>-0.966272</td>\n",
              "      <td>-0.185226</td>\n",
              "      <td>1.792993</td>\n",
              "      <td>-0.863291</td>\n",
              "      <td>-0.010309</td>\n",
              "      <td>1.247203</td>\n",
              "      <td>0.237609</td>\n",
              "      <td>0.377436</td>\n",
              "      <td>-1.387024</td>\n",
              "      <td>...</td>\n",
              "      <td>-0.108300</td>\n",
              "      <td>0.005274</td>\n",
              "      <td>-0.190321</td>\n",
              "      <td>-1.175575</td>\n",
              "      <td>0.647376</td>\n",
              "      <td>-0.221929</td>\n",
              "      <td>0.062723</td>\n",
              "      <td>0.061458</td>\n",
              "      <td>123.50</td>\n",
              "      <td>0</td>\n",
              "    </tr>\n",
              "    <tr>\n",
              "      <th>4</th>\n",
              "      <td>2.0</td>\n",
              "      <td>-1.158233</td>\n",
              "      <td>0.877737</td>\n",
              "      <td>1.548718</td>\n",
              "      <td>0.403034</td>\n",
              "      <td>-0.407193</td>\n",
              "      <td>0.095921</td>\n",
              "      <td>0.592941</td>\n",
              "      <td>-0.270533</td>\n",
              "      <td>0.817739</td>\n",
              "      <td>...</td>\n",
              "      <td>-0.009431</td>\n",
              "      <td>0.798278</td>\n",
              "      <td>-0.137458</td>\n",
              "      <td>0.141267</td>\n",
              "      <td>-0.206010</td>\n",
              "      <td>0.502292</td>\n",
              "      <td>0.219422</td>\n",
              "      <td>0.215153</td>\n",
              "      <td>69.99</td>\n",
              "      <td>0</td>\n",
              "    </tr>\n",
              "  </tbody>\n",
              "</table>\n",
              "<p>5 rows × 31 columns</p>\n",
              "</div>"
            ],
            "text/plain": [
              "   Time        V1        V2        V3        V4        V5        V6        V7  \\\n",
              "0   0.0 -1.359807 -0.072781  2.536347  1.378155 -0.338321  0.462388  0.239599   \n",
              "1   0.0  1.191857  0.266151  0.166480  0.448154  0.060018 -0.082361 -0.078803   \n",
              "2   1.0 -1.358354 -1.340163  1.773209  0.379780 -0.503198  1.800499  0.791461   \n",
              "3   1.0 -0.966272 -0.185226  1.792993 -0.863291 -0.010309  1.247203  0.237609   \n",
              "4   2.0 -1.158233  0.877737  1.548718  0.403034 -0.407193  0.095921  0.592941   \n",
              "\n",
              "         V8        V9  ...         V21       V22       V23       V24  \\\n",
              "0  0.098698  0.363787  ...   -0.018307  0.277838 -0.110474  0.066928   \n",
              "1  0.085102 -0.255425  ...   -0.225775 -0.638672  0.101288 -0.339846   \n",
              "2  0.247676 -1.514654  ...    0.247998  0.771679  0.909412 -0.689281   \n",
              "3  0.377436 -1.387024  ...   -0.108300  0.005274 -0.190321 -1.175575   \n",
              "4 -0.270533  0.817739  ...   -0.009431  0.798278 -0.137458  0.141267   \n",
              "\n",
              "        V25       V26       V27       V28  Amount  Class  \n",
              "0  0.128539 -0.189115  0.133558 -0.021053  149.62      0  \n",
              "1  0.167170  0.125895 -0.008983  0.014724    2.69      0  \n",
              "2 -0.327642 -0.139097 -0.055353 -0.059752  378.66      0  \n",
              "3  0.647376 -0.221929  0.062723  0.061458  123.50      0  \n",
              "4 -0.206010  0.502292  0.219422  0.215153   69.99      0  \n",
              "\n",
              "[5 rows x 31 columns]"
            ]
          },
          "metadata": {
            "tags": []
          },
          "execution_count": 4
        }
      ]
    },
    {
      "metadata": {
        "id": "fGFJY-W4UWPN",
        "colab_type": "code",
        "colab": {}
      },
      "cell_type": "code",
      "source": [
        "data = df"
      ],
      "execution_count": 0,
      "outputs": []
    },
    {
      "metadata": {
        "id": "MBrCvPRKetvk",
        "colab_type": "text"
      },
      "cell_type": "markdown",
      "source": [
        "# Credit card Fraud Detection"
      ]
    },
    {
      "metadata": {
        "id": "9y5kwTWye9RU",
        "colab_type": "code",
        "colab": {}
      },
      "cell_type": "code",
      "source": [
        "import matplotlib.pyplot as plt\n",
        "import numpy as np\n",
        "\n",
        "%matplotlib inline"
      ],
      "execution_count": 0,
      "outputs": []
    },
    {
      "metadata": {
        "id": "52LiowPgfluq",
        "colab_type": "text"
      },
      "cell_type": "markdown",
      "source": [
        "## Checking the target classes"
      ]
    },
    {
      "metadata": {
        "id": "LWIWjdvhfOrE",
        "colab_type": "code",
        "colab": {
          "base_uri": "https://localhost:8080/",
          "height": 309
        },
        "outputId": "272b8ce2-f34c-49d9-bb2c-a702a20d60f9"
      },
      "cell_type": "code",
      "source": [
        "count_classes = pd.value_counts(data['Class'], sort = True).sort_index()\n",
        "count_classes.plot(kind = \"bar\")\n",
        "\n",
        "plt.title(\"Fraud class histogram\")\n",
        "plt.xlabel(\"Class\")\n",
        "plt.ylabel(\"Frequency\")"
      ],
      "execution_count": 10,
      "outputs": [
        {
          "output_type": "execute_result",
          "data": {
            "text/plain": [
              "Text(0, 0.5, 'Frequency')"
            ]
          },
          "metadata": {
            "tags": []
          },
          "execution_count": 10
        },
        {
          "output_type": "display_data",
          "data": {
            "image/png": "[encoded data removed]",
            "text/plain": [
              "<Figure size 432x288 with 1 Axes>"
            ]
          },
          "metadata": {
            "tags": []
          }
        }
      ]
    },
    {
      "metadata": {
        "id": "E6VesYGXgioy",
        "colab_type": "text"
      },
      "cell_type": "markdown",
      "source": [
        "## Clearly the data is totally unbalanced!\n",
        "\n",
        "This is a clear example where using a typical accuracy score to evaluate our classification algorithm. For example, if we just used a majority class to assign values to all records, we will still be having a high accuracy, BUT WE WOULD BE CLASSIFYING ALL \"1'\" INCORRECTLY!\n",
        "\n",
        "There are several ways to approach this classification problem taking into consideration this unbalance,\n",
        "\n",
        "- Collect more data? Nice strategy but not applicable in this case\n",
        "- Changing the performance metric:\n",
        "  - Use the confusion matrix to calculate Precision, Recall\n",
        "  - F1score (weighted average of precision recall)\n",
        "  - Use Kappa - which is a classification accuracy normalized by the imbalance of the classes in the data\n",
        "  - ROC curves - calculates sensitivity/specificity ratio\n",
        "- Resampling the dataset\n",
        "  - Essentially this is a method that will process the data to have an approximate 50-50 ratio.\n",
        "  - One way to achieve this is by OVER-sampling, which is adding copies of the under-represented class (better when you have little data)\n",
        "  - Another is UNDER-sampling, which deletes instances from the over-represented class (better when he have lots of data)\n",
        "  \n",
        "## Approach\n",
        "1. We are not going to perform feature engineering in first instance. The dataset has been downgraded in order to contain 30 features (28 anonamised + time + amount).\n",
        "2. We will then compare what happens when using resampling and when not using it. We will test this approach using a simple logistic regression classifier.\n",
        "3. We will evaluate the models by using some of the performance metrics mentioned above.\n",
        "4. We will repeat the best resampling/not resampling method, by tuning the parametes in the logistic regression classifier.\n",
        "5. We will finally perform classification model using other classification algorithms\n",
        "\n",
        "## Setting our input and target variables + resampling.\n",
        "1. Normalising the amount column. The amount column is not line with the anonimised features.\n",
        "\n",
        "\n"
      ]
    },
    {
      "metadata": {
        "id": "IwTs0VcugOB7",
        "colab_type": "code",
        "colab": {
          "base_uri": "https://localhost:8080/",
          "height": 253
        },
        "outputId": "7d592edc-5ef4-44f1-f44b-93ba5466065c"
      },
      "cell_type": "code",
      "source": [
        "from sklearn.preprocessing import StandardScaler\n",
        "\n",
        "data['normAmount'] = StandardScaler().fit_transform(np.array(data['Amount']).reshape(-1, 1))\n",
        "data = data.drop([\"Time\", \"Amount\"], axis=1)\n",
        "data.head()"
      ],
      "execution_count": 18,
      "outputs": [
        {
          "output_type": "execute_result",
          "data": {
            "text/html": [
              "<div>\n",
              "<style scoped>\n",
              "    .dataframe tbody tr th:only-of-type {\n",
              "        vertical-align: middle;\n",
              "    }\n",
              "\n",
              "    .dataframe tbody tr th {\n",
              "        vertical-align: top;\n",
              "    }\n",
              "\n",
              "    .dataframe thead th {\n",
              "        text-align: right;\n",
              "    }\n",
              "</style>\n",
              "<table border=\"1\" class=\"dataframe\">\n",
              "  <thead>\n",
              "    <tr style=\"text-align: right;\">\n",
              "      <th></th>\n",
              "      <th>V1</th>\n",
              "      <th>V2</th>\n",
              "      <th>V3</th>\n",
              "      <th>V4</th>\n",
              "      <th>V5</th>\n",
              "      <th>V6</th>\n",
              "      <th>V7</th>\n",
              "      <th>V8</th>\n",
              "      <th>V9</th>\n",
              "      <th>V10</th>\n",
              "      <th>...</th>\n",
              "      <th>V21</th>\n",
              "      <th>V22</th>\n",
              "      <th>V23</th>\n",
              "      <th>V24</th>\n",
              "      <th>V25</th>\n",
              "      <th>V26</th>\n",
              "      <th>V27</th>\n",
              "      <th>V28</th>\n",
              "      <th>Class</th>\n",
              "      <th>normAmount</th>\n",
              "    </tr>\n",
              "  </thead>\n",
              "  <tbody>\n",
              "    <tr>\n",
              "      <th>0</th>\n",
              "      <td>-1.359807</td>\n",
              "      <td>-0.072781</td>\n",
              "      <td>2.536347</td>\n",
              "      <td>1.378155</td>\n",
              "      <td>-0.338321</td>\n",
              "      <td>0.462388</td>\n",
              "      <td>0.239599</td>\n",
              "      <td>0.098698</td>\n",
              "      <td>0.363787</td>\n",
              "      <td>0.090794</td>\n",
              "      <td>...</td>\n",
              "      <td>-0.018307</td>\n",
              "      <td>0.277838</td>\n",
              "      <td>-0.110474</td>\n",
              "      <td>0.066928</td>\n",
              "      <td>0.128539</td>\n",
              "      <td>-0.189115</td>\n",
              "      <td>0.133558</td>\n",
              "      <td>-0.021053</td>\n",
              "      <td>0</td>\n",
              "      <td>0.244964</td>\n",
              "    </tr>\n",
              "    <tr>\n",
              "      <th>1</th>\n",
              "      <td>1.191857</td>\n",
              "      <td>0.266151</td>\n",
              "      <td>0.166480</td>\n",
              "      <td>0.448154</td>\n",
              "      <td>0.060018</td>\n",
              "      <td>-0.082361</td>\n",
              "      <td>-0.078803</td>\n",
              "      <td>0.085102</td>\n",
              "      <td>-0.255425</td>\n",
              "      <td>-0.166974</td>\n",
              "      <td>...</td>\n",
              "      <td>-0.225775</td>\n",
              "      <td>-0.638672</td>\n",
              "      <td>0.101288</td>\n",
              "      <td>-0.339846</td>\n",
              "      <td>0.167170</td>\n",
              "      <td>0.125895</td>\n",
              "      <td>-0.008983</td>\n",
              "      <td>0.014724</td>\n",
              "      <td>0</td>\n",
              "      <td>-0.342475</td>\n",
              "    </tr>\n",
              "    <tr>\n",
              "      <th>2</th>\n",
              "      <td>-1.358354</td>\n",
              "      <td>-1.340163</td>\n",
              "      <td>1.773209</td>\n",
              "      <td>0.379780</td>\n",
              "      <td>-0.503198</td>\n",
              "      <td>1.800499</td>\n",
              "      <td>0.791461</td>\n",
              "      <td>0.247676</td>\n",
              "      <td>-1.514654</td>\n",
              "      <td>0.207643</td>\n",
              "      <td>...</td>\n",
              "      <td>0.247998</td>\n",
              "      <td>0.771679</td>\n",
              "      <td>0.909412</td>\n",
              "      <td>-0.689281</td>\n",
              "      <td>-0.327642</td>\n",
              "      <td>-0.139097</td>\n",
              "      <td>-0.055353</td>\n",
              "      <td>-0.059752</td>\n",
              "      <td>0</td>\n",
              "      <td>1.160686</td>\n",
              "    </tr>\n",
              "    <tr>\n",
              "      <th>3</th>\n",
              "      <td>-0.966272</td>\n",
              "      <td>-0.185226</td>\n",
              "      <td>1.792993</td>\n",
              "      <td>-0.863291</td>\n",
              "      <td>-0.010309</td>\n",
              "      <td>1.247203</td>\n",
              "      <td>0.237609</td>\n",
              "      <td>0.377436</td>\n",
              "      <td>-1.387024</td>\n",
              "      <td>-0.054952</td>\n",
              "      <td>...</td>\n",
              "      <td>-0.108300</td>\n",
              "      <td>0.005274</td>\n",
              "      <td>-0.190321</td>\n",
              "      <td>-1.175575</td>\n",
              "      <td>0.647376</td>\n",
              "      <td>-0.221929</td>\n",
              "      <td>0.062723</td>\n",
              "      <td>0.061458</td>\n",
              "      <td>0</td>\n",
              "      <td>0.140534</td>\n",
              "    </tr>\n",
              "    <tr>\n",
              "      <th>4</th>\n",
              "      <td>-1.158233</td>\n",
              "      <td>0.877737</td>\n",
              "      <td>1.548718</td>\n",
              "      <td>0.403034</td>\n",
              "      <td>-0.407193</td>\n",
              "      <td>0.095921</td>\n",
              "      <td>0.592941</td>\n",
              "      <td>-0.270533</td>\n",
              "      <td>0.817739</td>\n",
              "      <td>0.753074</td>\n",
              "      <td>...</td>\n",
              "      <td>-0.009431</td>\n",
              "      <td>0.798278</td>\n",
              "      <td>-0.137458</td>\n",
              "      <td>0.141267</td>\n",
              "      <td>-0.206010</td>\n",
              "      <td>0.502292</td>\n",
              "      <td>0.219422</td>\n",
              "      <td>0.215153</td>\n",
              "      <td>0</td>\n",
              "      <td>-0.073403</td>\n",
              "    </tr>\n",
              "  </tbody>\n",
              "</table>\n",
              "<p>5 rows × 30 columns</p>\n",
              "</div>"
            ],
            "text/plain": [
              "         V1        V2        V3        V4        V5        V6        V7  \\\n",
              "0 -1.359807 -0.072781  2.536347  1.378155 -0.338321  0.462388  0.239599   \n",
              "1  1.191857  0.266151  0.166480  0.448154  0.060018 -0.082361 -0.078803   \n",
              "2 -1.358354 -1.340163  1.773209  0.379780 -0.503198  1.800499  0.791461   \n",
              "3 -0.966272 -0.185226  1.792993 -0.863291 -0.010309  1.247203  0.237609   \n",
              "4 -1.158233  0.877737  1.548718  0.403034 -0.407193  0.095921  0.592941   \n",
              "\n",
              "         V8        V9       V10     ...           V21       V22       V23  \\\n",
              "0  0.098698  0.363787  0.090794     ...     -0.018307  0.277838 -0.110474   \n",
              "1  0.085102 -0.255425 -0.166974     ...     -0.225775 -0.638672  0.101288   \n",
              "2  0.247676 -1.514654  0.207643     ...      0.247998  0.771679  0.909412   \n",
              "3  0.377436 -1.387024 -0.054952     ...     -0.108300  0.005274 -0.190321   \n",
              "4 -0.270533  0.817739  0.753074     ...     -0.009431  0.798278 -0.137458   \n",
              "\n",
              "        V24       V25       V26       V27       V28  Class  normAmount  \n",
              "0  0.066928  0.128539 -0.189115  0.133558 -0.021053      0    0.244964  \n",
              "1 -0.339846  0.167170  0.125895 -0.008983  0.014724      0   -0.342475  \n",
              "2 -0.689281 -0.327642 -0.139097 -0.055353 -0.059752      0    1.160686  \n",
              "3 -1.175575  0.647376 -0.221929  0.062723  0.061458      0    0.140534  \n",
              "4  0.141267 -0.206010  0.502292  0.219422  0.215153      0   -0.073403  \n",
              "\n",
              "[5 rows x 30 columns]"
            ]
          },
          "metadata": {
            "tags": []
          },
          "execution_count": 18
        }
      ]
    },
    {
      "metadata": {
        "id": "jnEUM_6wDz_m",
        "colab_type": "text"
      },
      "cell_type": "markdown",
      "source": [
        "2. Assigning X and Y. No resampling.\n",
        "3. Resampling.\n",
        "   - As we mentioned earlier, there are several ways to resample skewed data. Apart from under and over sampling, there is a very popular approach called SMOTE (Synthetic Minority Over-Sampling Technique), which is a combination of oversampling and undersampling, but the oversampling approach is not by replicating minority class but constructing new minority class data instance via an algorithm.\n",
        "\n",
        "   - In this notebook, we will use traditional UNDER-sampling. I will probably try to implement SMOTE in future versions of the code, but for now I will use traditional undersamplig.\n",
        "\n",
        "   - The way we will under sample the dataset will be by creating a 50/50 ratio. This will be done by randomly selecting \"x\" amount of sample from the majority class, being \"x\" the total number of records with the minority class."
      ]
    },
    {
      "metadata": {
        "id": "ezL1a3tICSNS",
        "colab_type": "code",
        "colab": {}
      },
      "cell_type": "code",
      "source": [
        "X = data.loc[:, data.columns != 'Class']\n",
        "y = data.loc[:, data.columns == 'Class']"
      ],
      "execution_count": 0,
      "outputs": []
    },
    {
      "metadata": {
        "id": "_NnIhMMQCZTx",
        "colab_type": "code",
        "colab": {}
      },
      "cell_type": "code",
      "source": [
        "# Number of data points in the minority class\n",
        "number_records_fraud = len(data[data.Class == 1])\n",
        "fraud_indices = np.array(data[data.Class == 1].index)"
      ],
      "execution_count": 0,
      "outputs": []
    },
    {
      "metadata": {
        "id": "CpyU_mCaFASQ",
        "colab_type": "code",
        "colab": {}
      },
      "cell_type": "code",
      "source": [
        "# Picking the indices of the normal classes\n",
        "normal_indices = data[data.Class == 0].index"
      ],
      "execution_count": 0,
      "outputs": []
    },
    {
      "metadata": {
        "id": "zupg4sbEFfvH",
        "colab_type": "code",
        "colab": {}
      },
      "cell_type": "code",
      "source": [
        "# Out of the indices we picked, randomly select \"x\" number (number_records_fraud)\n",
        "random_normal_indices = np.random.choice(normal_indices, number_records_fraud, replace=False)\n",
        "random_normal_indices = np.array(random_normal_indices)"
      ],
      "execution_count": 0,
      "outputs": []
    },
    {
      "metadata": {
        "id": "JhvKHd5HHK3V",
        "colab_type": "code",
        "colab": {}
      },
      "cell_type": "code",
      "source": [
        "# Appending the 2 indices\n",
        "under_sample_indices = np.concatenate([fraud_indices, random_normal_indices])"
      ],
      "execution_count": 0,
      "outputs": []
    },
    {
      "metadata": {
        "id": "wgbKKDM6HNso",
        "colab_type": "code",
        "colab": {}
      },
      "cell_type": "code",
      "source": [
        "# Under sample dataset\n",
        "under_sample_data = data.iloc[under_sample_indices, :]"
      ],
      "execution_count": 0,
      "outputs": []
    },
    {
      "metadata": {
        "id": "GqnH36tbIUgl",
        "colab_type": "code",
        "colab": {}
      },
      "cell_type": "code",
      "source": [
        "X_undersample = under_sample_data.loc[:, under_sample_data.columns != 'Class']\n",
        "y_undersample = under_sample_data.loc[:, under_sample_data.columns == 'Class']"
      ],
      "execution_count": 0,
      "outputs": []
    },
    {
      "metadata": {
        "id": "y2K_a51TIeBR",
        "colab_type": "code",
        "colab": {
          "base_uri": "https://localhost:8080/",
          "height": 68
        },
        "outputId": "5f4a7f5e-56fd-42ad-a653-c70983f384bb"
      },
      "cell_type": "code",
      "source": [
        "# Showing ratio\n",
        "print(\"Percentage of normal transactions: \", len(under_sample_data[under_sample_data.Class == 0])/len(under_sample_data))\n",
        "print(\"Percentage of fraud transactions: \", len(under_sample_data[under_sample_data.Class == 1])/len(under_sample_data))\n",
        "print(\"Total number of transactions in resampled data: \", len(under_sample_data))"
      ],
      "execution_count": 32,
      "outputs": [
        {
          "output_type": "stream",
          "text": [
            "Percentage of normal transactions:  0.5\n",
            "Percentage of fraud transactions:  0.5\n",
            "Total number of transactions in resampled data:  984\n"
          ],
          "name": "stdout"
        }
      ]
    },
    {
      "metadata": {
        "id": "EuB_nWWtJIVG",
        "colab_type": "text"
      },
      "cell_type": "markdown",
      "source": [
        "## Splitting data into train and test set. Cross validation will be used when calculating accuracies."
      ]
    },
    {
      "metadata": {
        "id": "Pn3sh0nZI7M9",
        "colab_type": "code",
        "colab": {
          "base_uri": "https://localhost:8080/",
          "height": 68
        },
        "outputId": "01baff1f-f8a5-4a9c-9b4f-54518cf47cde"
      },
      "cell_type": "code",
      "source": [
        "from sklearn.model_selection import train_test_split\n",
        "\n",
        "# Whole dataset\n",
        "X_train, X_test, y_train, y_test = train_test_split(X,y,test_size = 0.3, random_state = 0)\n",
        "\n",
        "print(\"Number transactions train dataset: \", len(X_train))\n",
        "print(\"Number transactions test dataset: \", len(X_test))\n",
        "print(\"Total number of transactions: \", len(X_train)+len(X_test))"
      ],
      "execution_count": 34,
      "outputs": [
        {
          "output_type": "stream",
          "text": [
            "Number transactions train dataset:  199364\n",
            "Number transactions test dataset:  85443\n",
            "Total number of transactions:  284807\n"
          ],
          "name": "stdout"
        }
      ]
    },
    {
      "metadata": {
        "id": "yRXhPDPsJORc",
        "colab_type": "code",
        "colab": {
          "base_uri": "https://localhost:8080/",
          "height": 85
        },
        "outputId": "c7feeb0c-f039-4170-f3b0-80dceb0764a4"
      },
      "cell_type": "code",
      "source": [
        "# Undersampled dataset\n",
        "X_train_undersample, X_test_undersample, y_train_undersample, y_test_undersample = train_test_split(X_undersample\n",
        "                                                                                                   ,y_undersample\n",
        "                                                                                                   ,test_size = 0.3\n",
        "                                                                                                   ,random_state = 0)\n",
        "print(\"\")\n",
        "print(\"Number transactions train dataset: \", len(X_train_undersample))\n",
        "print(\"Number transactions test dataset: \", len(X_test_undersample))\n",
        "print(\"Total number of transactions: \", len(X_train_undersample)+len(X_test_undersample))"
      ],
      "execution_count": 35,
      "outputs": [
        {
          "output_type": "stream",
          "text": [
            "\n",
            "Number transactions train dataset:  688\n",
            "Number transactions test dataset:  296\n",
            "Total number of transactions:  984\n"
          ],
          "name": "stdout"
        }
      ]
    },
    {
      "metadata": {
        "id": "gDedLDfFJd8N",
        "colab_type": "code",
        "colab": {}
      },
      "cell_type": "code",
      "source": [
        ""
      ],
      "execution_count": 0,
      "outputs": []
    },
    {
      "metadata": {
        "id": "C-jc6dlWJqML",
        "colab_type": "text"
      },
      "cell_type": "markdown",
      "source": [
        "## Logistic regression classifier - Undersampled data\n",
        "We are very interested in the recall score, because that is the metric that will help us try to capture the most fraudulent transactions. If you think how Accuracy, Precision and Recall work for a confusion matrix, recall would be the most interesting:\n",
        "\n",
        "- Accuracy = (TP+TN)/total\n",
        "- Precision = TP/(TP+FP)\n",
        "- Recall = TP/(TP+FN)\n",
        "\n",
        "As we know, due to the imbalacing of the data, many observations could be predicted as False Negatives, being, that we predict a normal transaction, but it is in fact a fraudulent one. Recall captures this.\n",
        "\n",
        "- Obviously, trying to increase recall, tends to come with a decrease of precision. However, in our case, if we predict that a transaction is fraudulent and turns out not to be, is not a massive problem compared to the opposite.\n",
        "- We could even apply a cost function when having FN and FP with different weights for each type of error, but let's leave that aside for now."
      ]
    },
    {
      "metadata": {
        "id": "7zYVQqJHMLmd",
        "colab_type": "code",
        "colab": {}
      },
      "cell_type": "code",
      "source": [
        "from sklearn.linear_model import LogisticRegression\n",
        "from sklearn.model_selection import KFold, cross_val_score\n",
        "from sklearn.metrics import confusion_matrix,precision_recall_curve,auc,roc_auc_score,roc_curve,recall_score,classification_report "
      ],
      "execution_count": 0,
      "outputs": []
    },
    {
      "metadata": {
        "id": "lwz_LmaRMedK",
        "colab_type": "text"
      },
      "cell_type": "markdown",
      "source": [
        "Very ad-hoc function to print K_fold_scores"
      ]
    },
    {
      "metadata": {
        "id": "azSOkP0gMVIQ",
        "colab_type": "code",
        "colab": {}
      },
      "cell_type": "code",
      "source": [
        "def printing_Kfold_scores(x_train_data, y_train_data):\n",
        "    fold = KFold(10, shuffle=False, random_state=5) \n",
        "\n",
        "    # Different C parameters\n",
        "    c_param_range = [0.01,0.1,1,10,100]\n",
        "\n",
        "    results_table = pd.DataFrame(index = range(len(c_param_range), 2), \n",
        "                                 columns = ['C_parameter','Mean recall score'])\n",
        "    results_table['C_parameter'] = c_param_range\n",
        "\n",
        "    # the k-fold will give 2 lists: train_indices = indices[0], \n",
        "    # test_indices = indices[1]\n",
        "    j = 0\n",
        "    for c_param in c_param_range:\n",
        "        print('-------------------------------------------')\n",
        "        print('C parameter: ', c_param)\n",
        "        print('-------------------------------------------')\n",
        "        print('')\n",
        "\n",
        "        recall_accs = []\n",
        "        iteration = 0\n",
        "        for train_index, test_index in fold.split(x_train_data):\n",
        "\n",
        "            # Call the logistic regression model with a certain C parameter\n",
        "            lr = LogisticRegression(C = c_param, penalty = 'l2', solver='lbfgs')\n",
        "\n",
        "            # Use the training data to fit the model. In this case, we use \n",
        "            # the portion of the fold to train the model with indices[0]. \n",
        "            # We then predict on the portion assigned as \n",
        "            # the 'test cross validation' with indices[1]\n",
        "            lr.fit(x_train_data.iloc[train_index,:], \n",
        "                   y_train_data.iloc[train_index,:].values.ravel())\n",
        "\n",
        "            # Predict values using the test indices in the training data\n",
        "            y_pred_undersample = lr.predict(x_train_data.iloc[test_index,:].values)\n",
        "\n",
        "            # Calculate the recall score and append it to a list for \n",
        "            # recall scores representing the current c_parameter\n",
        "            recall_acc = recall_score(y_train_data.iloc[test_index,:].values,\n",
        "                                      y_pred_undersample)\n",
        "            recall_accs.append(recall_acc)\n",
        "            iteration += 1\n",
        "            print('Iteration ', iteration,': recall score = ', recall_acc)\n",
        "\n",
        "        # The mean value of those recall scores is the metric we want to \n",
        "        # save and get hold of.\n",
        "        results_table.loc[j,'Mean recall score'] = np.mean(recall_accs)\n",
        "        j += 1\n",
        "        print('')\n",
        "        print('Mean recall score ', np.mean(recall_accs))\n",
        "        print('')\n",
        "\n",
        "    best_c = results_table['Mean recall score'].max()\n",
        "    \n",
        "    # Finally, we can check which C parameter is the best amongst the chosen.\n",
        "    print('*********************************************************************************')\n",
        "    print('Best model to choose from cross validation is with C parameter = ', best_c)\n",
        "    print('*********************************************************************************')\n",
        "    \n",
        "    return best_c"
      ],
      "execution_count": 0,
      "outputs": []
    },
    {
      "metadata": {
        "id": "jYJT-5Q4NaLG",
        "colab_type": "code",
        "colab": {
          "base_uri": "https://localhost:8080/",
          "height": 1873
        },
        "outputId": "80fcf72a-cb3b-4583-d36d-addaf0ffd689"
      },
      "cell_type": "code",
      "source": [
        "best_c = printing_Kfold_scores(X_train_undersample, y_train_undersample)"
      ],
      "execution_count": 64,
      "outputs": [
        {
          "output_type": "stream",
          "text": [
            "-------------------------------------------\n",
            "C parameter:  0.01\n",
            "-------------------------------------------\n",
            "\n",
            "Iteration  1 : recall score =  0.8461538461538461\n",
            "Iteration  2 : recall score =  0.7941176470588235\n",
            "Iteration  3 : recall score =  0.8717948717948718\n",
            "Iteration  4 : recall score =  0.8235294117647058\n",
            "Iteration  5 : recall score =  0.8571428571428571\n",
            "Iteration  6 : recall score =  0.9354838709677419\n",
            "Iteration  7 : recall score =  0.9696969696969697\n",
            "Iteration  8 : recall score =  0.8809523809523809\n",
            "Iteration  9 : recall score =  0.918918918918919\n",
            "Iteration  10 : recall score =  0.8214285714285714\n",
            "\n",
            "Mean recall score  0.8719219345879688\n",
            "\n",
            "-------------------------------------------\n",
            "C parameter:  0.1\n",
            "-------------------------------------------\n",
            "\n",
            "Iteration  1 : recall score =  0.8974358974358975\n",
            "Iteration  2 : recall score =  0.7941176470588235\n",
            "Iteration  3 : recall score =  0.8974358974358975\n",
            "Iteration  4 : recall score =  0.8235294117647058\n",
            "Iteration  5 : recall score =  0.8928571428571429\n",
            "Iteration  6 : recall score =  0.9354838709677419\n",
            "Iteration  7 : recall score =  0.9696969696969697\n",
            "Iteration  8 : recall score =  0.9047619047619048\n",
            "Iteration  9 : recall score =  0.918918918918919\n",
            "Iteration  10 : recall score =  0.8214285714285714\n",
            "\n",
            "Mean recall score  0.8855666232326573\n",
            "\n",
            "-------------------------------------------\n",
            "C parameter:  1\n",
            "-------------------------------------------\n",
            "\n",
            "Iteration  1 : recall score =  0.8717948717948718\n",
            "Iteration  2 : recall score =  0.7941176470588235\n",
            "Iteration  3 : recall score =  0.8974358974358975\n",
            "Iteration  4 : recall score =  0.8529411764705882\n",
            "Iteration  5 : recall score =  0.9285714285714286\n",
            "Iteration  6 : recall score =  0.967741935483871\n",
            "Iteration  7 : recall score =  0.9696969696969697\n",
            "Iteration  8 : recall score =  0.9047619047619048\n",
            "Iteration  9 : recall score =  0.918918918918919\n",
            "Iteration  10 : recall score =  0.8571428571428571\n",
            "\n",
            "Mean recall score  0.8963123607336131\n",
            "\n",
            "-------------------------------------------\n",
            "C parameter:  10\n",
            "-------------------------------------------\n",
            "\n",
            "Iteration  1 : recall score =  0.8717948717948718\n",
            "Iteration  2 : recall score =  0.8235294117647058\n",
            "Iteration  3 : recall score =  0.8974358974358975\n",
            "Iteration  4 : recall score =  0.8529411764705882\n",
            "Iteration  5 : recall score =  0.9285714285714286\n",
            "Iteration  6 : recall score =  0.967741935483871\n",
            "Iteration  7 : recall score =  0.9696969696969697\n",
            "Iteration  8 : recall score =  0.9047619047619048\n",
            "Iteration  9 : recall score =  0.918918918918919\n",
            "Iteration  10 : recall score =  0.8928571428571429\n",
            "\n",
            "Mean recall score  0.9028249657756298\n",
            "\n",
            "-------------------------------------------\n",
            "C parameter:  100\n",
            "-------------------------------------------\n",
            "\n",
            "Iteration  1 : recall score =  0.8717948717948718\n",
            "Iteration  2 : recall score =  0.8235294117647058\n",
            "Iteration  3 : recall score =  0.8974358974358975\n",
            "Iteration  4 : recall score =  0.8529411764705882\n"
          ],
          "name": "stdout"
        },
        {
          "output_type": "stream",
          "text": [
            "/usr/local/lib/python3.6/dist-packages/sklearn/linear_model/logistic.py:758: ConvergenceWarning: lbfgs failed to converge. Increase the number of iterations.\n",
            "  \"of iterations.\", ConvergenceWarning)\n",
            "/usr/local/lib/python3.6/dist-packages/sklearn/linear_model/logistic.py:758: ConvergenceWarning: lbfgs failed to converge. Increase the number of iterations.\n",
            "  \"of iterations.\", ConvergenceWarning)\n",
            "/usr/local/lib/python3.6/dist-packages/sklearn/linear_model/logistic.py:758: ConvergenceWarning: lbfgs failed to converge. Increase the number of iterations.\n",
            "  \"of iterations.\", ConvergenceWarning)\n",
            "/usr/local/lib/python3.6/dist-packages/sklearn/linear_model/logistic.py:758: ConvergenceWarning: lbfgs failed to converge. Increase the number of iterations.\n",
            "  \"of iterations.\", ConvergenceWarning)\n",
            "/usr/local/lib/python3.6/dist-packages/sklearn/linear_model/logistic.py:758: ConvergenceWarning: lbfgs failed to converge. Increase the number of iterations.\n",
            "  \"of iterations.\", ConvergenceWarning)\n",
            "/usr/local/lib/python3.6/dist-packages/sklearn/linear_model/logistic.py:758: ConvergenceWarning: lbfgs failed to converge. Increase the number of iterations.\n",
            "  \"of iterations.\", ConvergenceWarning)\n"
          ],
          "name": "stderr"
        },
        {
          "output_type": "stream",
          "text": [
            "Iteration  5 : recall score =  0.9285714285714286\n",
            "Iteration  6 : recall score =  0.967741935483871\n",
            "Iteration  7 : recall score =  0.9696969696969697\n",
            "Iteration  8 : recall score =  0.9047619047619048\n",
            "Iteration  9 : recall score =  0.918918918918919\n",
            "Iteration  10 : recall score =  0.8928571428571429\n",
            "\n",
            "Mean recall score  0.9028249657756298\n",
            "\n",
            "*********************************************************************************\n",
            "Best model to choose from cross validation is with C parameter =  0.9028249657756298\n",
            "*********************************************************************************\n"
          ],
          "name": "stdout"
        },
        {
          "output_type": "stream",
          "text": [
            "/usr/local/lib/python3.6/dist-packages/sklearn/linear_model/logistic.py:758: ConvergenceWarning: lbfgs failed to converge. Increase the number of iterations.\n",
            "  \"of iterations.\", ConvergenceWarning)\n",
            "/usr/local/lib/python3.6/dist-packages/sklearn/linear_model/logistic.py:758: ConvergenceWarning: lbfgs failed to converge. Increase the number of iterations.\n",
            "  \"of iterations.\", ConvergenceWarning)\n",
            "/usr/local/lib/python3.6/dist-packages/sklearn/linear_model/logistic.py:758: ConvergenceWarning: lbfgs failed to converge. Increase the number of iterations.\n",
            "  \"of iterations.\", ConvergenceWarning)\n",
            "/usr/local/lib/python3.6/dist-packages/sklearn/linear_model/logistic.py:758: ConvergenceWarning: lbfgs failed to converge. Increase the number of iterations.\n",
            "  \"of iterations.\", ConvergenceWarning)\n"
          ],
          "name": "stderr"
        }
      ]
    },
    {
      "metadata": {
        "id": "r1PtlEfucOSF",
        "colab_type": "text"
      },
      "cell_type": "markdown",
      "source": [
        "Create a function to plot a fancy confusion matrix"
      ]
    },
    {
      "metadata": {
        "id": "5qVMe6afNd66",
        "colab_type": "code",
        "colab": {}
      },
      "cell_type": "code",
      "source": [
        "import itertools\n",
        "\n",
        "def plot_confusion_matrix(cm, classes,\n",
        "                          normalize=False,\n",
        "                          title='Confusion matrix',\n",
        "                          cmap=plt.cm.Blues):\n",
        "    \"\"\"\n",
        "    This function prints and plots the confusion matrix.\n",
        "    Normalization can be applied by setting `normalize=True`.\n",
        "    \"\"\"\n",
        "    \n",
        "    plt.imshow(cm, interpolation='nearest', cmap=cmap)\n",
        "    plt.title(title)\n",
        "    plt.colorbar()\n",
        "    tick_marks = np.arange(len(classes))\n",
        "    plt.xticks(tick_marks, classes, rotation=0)\n",
        "    plt.yticks(tick_marks, classes)\n",
        "\n",
        "    if normalize:\n",
        "        cm = cm.astype('float') / cm.sum(axis=1)[:, np.newaxis]\n",
        "        #print(\"Normalized confusion matrix\")\n",
        "    else:\n",
        "        1#print('Confusion matrix, without normalization')\n",
        "\n",
        "    #print(cm)\n",
        "\n",
        "    thresh = cm.max() / 2.\n",
        "    for i, j in itertools.product(range(cm.shape[0]), range(cm.shape[1])):\n",
        "        plt.text(j, i, cm[i, j],\n",
        "                 horizontalalignment=\"center\",\n",
        "                 color=\"white\" if cm[i, j] > thresh else \"black\")\n",
        "\n",
        "    plt.tight_layout()\n",
        "    plt.ylabel('True label')\n",
        "    plt.xlabel('Predicted label')"
      ],
      "execution_count": 0,
      "outputs": []
    },
    {
      "metadata": {
        "id": "NTxYxyIAdglz",
        "colab_type": "text"
      },
      "cell_type": "markdown",
      "source": [
        "## Predictions on test set and plotting confusion matrix\n",
        "\n",
        "We have been talking about using the recall metric as our proxy of how effective our predictive model is. Even though recall is still the recall we want to calculate, just bear mind in mind that the undersampled data hasn't got a skewness towards a certain class, which doesn't make recall metric as critical."
      ]
    },
    {
      "metadata": {
        "id": "04TZUStidt3k",
        "colab_type": "code",
        "colab": {
          "base_uri": "https://localhost:8080/",
          "height": 382
        },
        "outputId": "78897f58-861b-48db-ed8f-25bf9fd24741"
      },
      "cell_type": "code",
      "source": [
        "# Use this C_parameter to build the final model with the whole training dataset \n",
        "# and predict the classes in the test dataset\n",
        "lr = LogisticRegression(C = best_c, penalty = 'l1')\n",
        "lr.fit(X_train_undersample,y_train_undersample.values.ravel())\n",
        "y_pred_undersample = lr.predict(X_test_undersample.values)\n",
        "\n",
        "# Compute confusion matrix\n",
        "cnf_matrix = confusion_matrix(y_test_undersample, y_pred_undersample)\n",
        "np.set_printoptions(precision=2)\n",
        "\n",
        "print(\"Recall metric in the testing dataset: \", \n",
        "      cnf_matrix[1,1]/(cnf_matrix[1,0]+cnf_matrix[1,1]))\n",
        "\n",
        "# Plot non-normalized confusion matrix\n",
        "class_names = [0,1]\n",
        "plt.figure()\n",
        "plot_confusion_matrix(cnf_matrix\n",
        "                      , classes=class_names\n",
        "                      , title='Confusion matrix')\n",
        "plt.show()\n"
      ],
      "execution_count": 66,
      "outputs": [
        {
          "output_type": "stream",
          "text": [
            "/usr/local/lib/python3.6/dist-packages/sklearn/linear_model/logistic.py:433: FutureWarning: Default solver will be changed to 'lbfgs' in 0.22. Specify a solver to silence this warning.\n",
            "  FutureWarning)\n"
          ],
          "name": "stderr"
        },
        {
          "output_type": "stream",
          "text": [
            "Recall metric in the testing dataset:  0.8979591836734694\n"
          ],
          "name": "stdout"
        },
        {
          "output_type": "display_data",
          "data": {
            "image/png": "[encoded data removed]",
            "text/plain": [
              "<Figure size 432x288 with 2 Axes>"
            ]
          },
          "metadata": {
            "tags": []
          }
        }
      ]
    },
    {
      "metadata": {
        "id": "XWlcG3_nOG1C",
        "colab_type": "code",
        "colab": {}
      },
      "cell_type": "code",
      "source": [
        ""
      ],
      "execution_count": 0,
      "outputs": []
    },
    {
      "metadata": {
        "id": "fvb5_n36d6pw",
        "colab_type": "text"
      },
      "cell_type": "markdown",
      "source": [
        "So, the model is offering an 93.2% recall accuracy on the generalised unseen data (test set). Not a bad percentage to be the first try. However, recall this is a 93.2% recall accuracy measure on the undersampled test set.\n",
        "\n",
        "Being happy with this result, let's apply the model we fitted and test it on the whole data."
      ]
    },
    {
      "metadata": {
        "id": "Z5JW3dEzeFYt",
        "colab_type": "code",
        "colab": {
          "base_uri": "https://localhost:8080/",
          "height": 382
        },
        "outputId": "f411b7f5-af12-4257-9c83-966a03b5ba02"
      },
      "cell_type": "code",
      "source": [
        "# Use this C_parameter to build the final model with the whole training dataset \n",
        "# and predict the classes in the test dataset\n",
        "lr = LogisticRegression(C = best_c, penalty = 'l1')\n",
        "lr.fit(X_train_undersample,y_train_undersample.values.ravel())\n",
        "y_pred = lr.predict(X_test.values)\n",
        "\n",
        "# Compute confusion matrix\n",
        "cnf_matrix = confusion_matrix(y_test,y_pred)\n",
        "np.set_printoptions(precision=2)\n",
        "\n",
        "print(\"Recall metric in the testing dataset: \", \n",
        "      cnf_matrix[1,1]/(cnf_matrix[1,0]+cnf_matrix[1,1]))\n",
        "\n",
        "# Plot non-normalized confusion matrix\n",
        "class_names = [0,1]\n",
        "plt.figure()\n",
        "plot_confusion_matrix(cnf_matrix\n",
        "                      , classes=class_names\n",
        "                      , title='Confusion matrix')\n",
        "plt.show()"
      ],
      "execution_count": 67,
      "outputs": [
        {
          "output_type": "stream",
          "text": [
            "/usr/local/lib/python3.6/dist-packages/sklearn/linear_model/logistic.py:433: FutureWarning: Default solver will be changed to 'lbfgs' in 0.22. Specify a solver to silence this warning.\n",
            "  FutureWarning)\n"
          ],
          "name": "stderr"
        },
        {
          "output_type": "stream",
          "text": [
            "Recall metric in the testing dataset:  0.9047619047619048\n"
          ],
          "name": "stdout"
        },
        {
          "output_type": "display_data",
          "data": {
            "image/png": "[encoded data removed]",
            "text/plain": [
              "<Figure size 432x288 with 2 Axes>"
            ]
          },
          "metadata": {
            "tags": []
          }
        }
      ]
    },
    {
      "metadata": {
        "id": "TKcVXG1eejJE",
        "colab_type": "code",
        "colab": {}
      },
      "cell_type": "code",
      "source": [
        ""
      ],
      "execution_count": 0,
      "outputs": []
    },
    {
      "metadata": {
        "id": "NEpI0AmHexcJ",
        "colab_type": "text"
      },
      "cell_type": "markdown",
      "source": [
        "Still a very decent recall accuracy when applying it to a much larger and skewed dataset!\n",
        "We can start to be happy with how initial approach is working.\n",
        "\n",
        "## Plotting ROC curve and Precision-Recall curve.\n",
        "- I find precision-recall curve much more convenient in this case as our problems relies on the \"positive\" class being more interesting than the negative class, but as we have calculated the recall precision, I am not going to plot the precision recall curves yet.\n",
        "\n",
        "- AUC and ROC curve are also interesting to check if the model is also predicting as a whole correctly and not making many errors"
      ]
    },
    {
      "metadata": {
        "id": "mdaGsvwge04A",
        "colab_type": "code",
        "colab": {
          "base_uri": "https://localhost:8080/",
          "height": 349
        },
        "outputId": "c8b8bbcf-af50-42a9-9bd2-2a76d085217d"
      },
      "cell_type": "code",
      "source": [
        "# ROC CURVE\n",
        "lr = LogisticRegression(C = best_c, penalty = 'l1')\n",
        "y_pred_undersample_score = lr.fit(X_train_undersample,\n",
        "                                  y_train_undersample.values.ravel()).decision_function(X_test_undersample.values)\n",
        "\n",
        "fpr, tpr, thresholds = roc_curve(y_test_undersample.values.ravel(),y_pred_undersample_score)\n",
        "roc_auc = auc(fpr,tpr)\n",
        "\n",
        "# Plot ROC\n",
        "plt.title('Receiver Operating Characteristic')\n",
        "plt.plot(fpr, tpr, 'b',label='AUC = %0.2f'% roc_auc)\n",
        "plt.legend(loc='lower right')\n",
        "plt.plot([0,1],[0,1],'r--')\n",
        "plt.xlim([-0.1,1.0])\n",
        "plt.ylim([-0.1,1.01])\n",
        "plt.ylabel('True Positive Rate')\n",
        "plt.xlabel('False Positive Rate')\n",
        "plt.show()"
      ],
      "execution_count": 68,
      "outputs": [
        {
          "output_type": "stream",
          "text": [
            "/usr/local/lib/python3.6/dist-packages/sklearn/linear_model/logistic.py:433: FutureWarning: Default solver will be changed to 'lbfgs' in 0.22. Specify a solver to silence this warning.\n",
            "  FutureWarning)\n"
          ],
          "name": "stderr"
        },
        {
          "output_type": "display_data",
          "data": {
            "image/png": "[encoded data removed]",
            "text/plain": [
              "<Figure size 432x288 with 1 Axes>"
            ]
          },
          "metadata": {
            "tags": []
          }
        }
      ]
    },
    {
      "metadata": {
        "id": "qu1qup2FfFTp",
        "colab_type": "code",
        "colab": {}
      },
      "cell_type": "code",
      "source": [
        ""
      ],
      "execution_count": 0,
      "outputs": []
    },
    {
      "metadata": {
        "id": "Q1MjEdItf0tf",
        "colab_type": "text"
      },
      "cell_type": "markdown",
      "source": [
        "An additional comment that would be interesting to do is to initialise multiple undersampled datasets and repeat the process in loop. Remember that, to create an undersample data, we randomly got records from the majority class. Even though this is a valid technique, is doesn't represent the real population, so it would be interesting to repeat the process with different undersample configurations and check if the previous chosen parameters are still the most effective. In the end, the idea is to use a wider random representation of the whole dataset and rely on the averaged best parameters."
      ]
    },
    {
      "metadata": {
        "id": "KnTEYUmAgNSL",
        "colab_type": "text"
      },
      "cell_type": "markdown",
      "source": [
        "## Logistic regression classifier - Skewed data\n",
        "Having tested our previous approach, I find really interesting to test the same process on the skewed data. Our intuition is that skewness will introduce issues difficult to capture, and therefore, provide a less effective algorithm.\n",
        "\n",
        "- To be fair, taking into account the fact that the train and test datasets are substantially bigger than the undersampled ones, I believe a K-fold cross validation is necessary. I guess that by splitting the data with 60% in training set, 20% cross validation and 20% test should be enough... but let's take the same approach as before (no harm on this, it's just that K-fold is computationally more expensive)"
      ]
    },
    {
      "metadata": {
        "id": "mqbITZNff3Cy",
        "colab_type": "code",
        "colab": {
          "base_uri": "https://localhost:8080/",
          "height": 1513
        },
        "outputId": "16fa624c-ec18-43bb-e796-e8477ac7f75e"
      },
      "cell_type": "code",
      "source": [
        "best_c = printing_Kfold_scores(X_train,y_train)"
      ],
      "execution_count": 69,
      "outputs": [
        {
          "output_type": "stream",
          "text": [
            "-------------------------------------------\n",
            "C parameter:  0.01\n",
            "-------------------------------------------\n",
            "\n",
            "Iteration  1 : recall score =  0.5277777777777778\n",
            "Iteration  2 : recall score =  0.5483870967741935\n",
            "Iteration  3 : recall score =  0.6111111111111112\n",
            "Iteration  4 : recall score =  0.6216216216216216\n",
            "Iteration  5 : recall score =  0.6551724137931034\n",
            "Iteration  6 : recall score =  0.6774193548387096\n",
            "Iteration  7 : recall score =  0.6923076923076923\n",
            "Iteration  8 : recall score =  0.46153846153846156\n",
            "Iteration  9 : recall score =  0.4888888888888889\n",
            "Iteration  10 : recall score =  0.5428571428571428\n",
            "\n",
            "Mean recall score  0.5827081561508702\n",
            "\n",
            "-------------------------------------------\n",
            "C parameter:  0.1\n",
            "-------------------------------------------\n",
            "\n",
            "Iteration  1 : recall score =  0.5277777777777778\n",
            "Iteration  2 : recall score =  0.5806451612903226\n",
            "Iteration  3 : recall score =  0.6111111111111112\n",
            "Iteration  4 : recall score =  0.6486486486486487\n",
            "Iteration  5 : recall score =  0.6551724137931034\n",
            "Iteration  6 : recall score =  0.7096774193548387\n",
            "Iteration  7 : recall score =  0.717948717948718\n",
            "Iteration  8 : recall score =  0.5\n",
            "Iteration  9 : recall score =  0.5555555555555556\n",
            "Iteration  10 : recall score =  0.5714285714285714\n",
            "\n",
            "Mean recall score  0.6077965376908647\n",
            "\n",
            "-------------------------------------------\n",
            "C parameter:  1\n",
            "-------------------------------------------\n",
            "\n",
            "Iteration  1 : recall score =  0.5277777777777778\n",
            "Iteration  2 : recall score =  0.5806451612903226\n",
            "Iteration  3 : recall score =  0.6111111111111112\n",
            "Iteration  4 : recall score =  0.6486486486486487\n",
            "Iteration  5 : recall score =  0.6551724137931034\n",
            "Iteration  6 : recall score =  0.7096774193548387\n",
            "Iteration  7 : recall score =  0.717948717948718\n",
            "Iteration  8 : recall score =  0.5\n",
            "Iteration  9 : recall score =  0.5777777777777777\n",
            "Iteration  10 : recall score =  0.6\n",
            "\n",
            "Mean recall score  0.6128759027702297\n",
            "\n",
            "-------------------------------------------\n",
            "C parameter:  10\n",
            "-------------------------------------------\n",
            "\n",
            "Iteration  1 : recall score =  0.5277777777777778\n",
            "Iteration  2 : recall score =  0.5806451612903226\n",
            "Iteration  3 : recall score =  0.6111111111111112\n",
            "Iteration  4 : recall score =  0.6486486486486487\n",
            "Iteration  5 : recall score =  0.6896551724137931\n",
            "Iteration  6 : recall score =  0.7096774193548387\n",
            "Iteration  7 : recall score =  0.717948717948718\n",
            "Iteration  8 : recall score =  0.5\n",
            "Iteration  9 : recall score =  0.5777777777777777\n",
            "Iteration  10 : recall score =  0.6\n",
            "\n",
            "Mean recall score  0.6163241786322987\n",
            "\n",
            "-------------------------------------------\n",
            "C parameter:  100\n",
            "-------------------------------------------\n",
            "\n",
            "Iteration  1 : recall score =  0.5277777777777778\n",
            "Iteration  2 : recall score =  0.5806451612903226\n",
            "Iteration  3 : recall score =  0.6111111111111112\n",
            "Iteration  4 : recall score =  0.6486486486486487\n",
            "Iteration  5 : recall score =  0.6896551724137931\n",
            "Iteration  6 : recall score =  0.7096774193548387\n",
            "Iteration  7 : recall score =  0.717948717948718\n",
            "Iteration  8 : recall score =  0.5\n",
            "Iteration  9 : recall score =  0.5777777777777777\n",
            "Iteration  10 : recall score =  0.6\n",
            "\n",
            "Mean recall score  0.6163241786322987\n",
            "\n",
            "*********************************************************************************\n",
            "Best model to choose from cross validation is with C parameter =  0.6163241786322987\n",
            "*********************************************************************************\n"
          ],
          "name": "stdout"
        }
      ]
    },
    {
      "metadata": {
        "id": "lOx1K4BBg3jB",
        "colab_type": "code",
        "colab": {
          "base_uri": "https://localhost:8080/",
          "height": 382
        },
        "outputId": "af774963-c0e6-45e4-b73c-c5cdc2301051"
      },
      "cell_type": "code",
      "source": [
        "# Use this C_parameter to build the final model with the whole training dataset and predict the classes in the test\n",
        "# dataset\n",
        "lr = LogisticRegression(C = best_c, penalty = 'l1')\n",
        "lr.fit(X_train,y_train.values.ravel())\n",
        "y_pred_undersample = lr.predict(X_test.values)\n",
        "\n",
        "# Compute confusion matrix\n",
        "cnf_matrix = confusion_matrix(y_test,y_pred_undersample)\n",
        "np.set_printoptions(precision=2)\n",
        "\n",
        "print(\"Recall metric in the testing dataset: \", cnf_matrix[1,1]/(cnf_matrix[1,0]+cnf_matrix[1,1]))\n",
        "\n",
        "# Plot non-normalized confusion matrix\n",
        "class_names = [0,1]\n",
        "plt.figure()\n",
        "plot_confusion_matrix(cnf_matrix\n",
        "                      , classes=class_names\n",
        "                      , title='Confusion matrix')\n",
        "plt.show()"
      ],
      "execution_count": 70,
      "outputs": [
        {
          "output_type": "stream",
          "text": [
            "/usr/local/lib/python3.6/dist-packages/sklearn/linear_model/logistic.py:433: FutureWarning: Default solver will be changed to 'lbfgs' in 0.22. Specify a solver to silence this warning.\n",
            "  FutureWarning)\n"
          ],
          "name": "stderr"
        },
        {
          "output_type": "stream",
          "text": [
            "Recall metric in the testing dataset:  0.6190476190476191\n"
          ],
          "name": "stdout"
        },
        {
          "output_type": "display_data",
          "data": {
            "image/png": "[encoded data removed]",
            "text/plain": [
              "<Figure size 432x288 with 2 Axes>"
            ]
          },
          "metadata": {
            "tags": []
          }
        }
      ]
    },
    {
      "metadata": {
        "id": "W4bNHl8Riznp",
        "colab_type": "code",
        "colab": {}
      },
      "cell_type": "code",
      "source": [
        ""
      ],
      "execution_count": 0,
      "outputs": []
    }
  ]
}